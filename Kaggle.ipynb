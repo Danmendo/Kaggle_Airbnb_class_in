{
 "cells": [
  {
   "cell_type": "code",
   "execution_count": 12,
   "metadata": {},
   "outputs": [],
   "source": [
    "import pandas as pd\n",
    "import numpy as np\n",
    "import matplotlib.pyplot as plt\n",
    "import os\n",
    "import re\n",
    "from sklearn.model_selection import train_test_split\n",
    "from sklearn.model_selection import StratifiedShuffleSplit\n",
    "from sklearn.tree import DecisionTreeRegressor\n",
    "from sklearn.metrics import mean_squared_error\n",
    "from sklearn.linear_model import LinearRegression\n",
    "from sklearn.model_selection import cross_val_score\n",
    "from sklearn.ensemble import RandomForestRegressor\n",
    "from sklearn.model_selection import GridSearchCV"
   ]
  },
  {
   "cell_type": "code",
   "execution_count": 13,
   "metadata": {},
   "outputs": [],
   "source": [
    "import xgboost as xgb"
   ]
  },
  {
   "cell_type": "code",
   "execution_count": 14,
   "metadata": {},
   "outputs": [],
   "source": [
    "calendar = pd.read_csv(\"calendar_summary.csv\")\n",
    "listings = pd.read_csv(\"listings.csv\")\n",
    "listings_sum = pd.read_csv(\"listings_summary.csv\")\n",
    "neighbourhoods = pd.read_csv(\"neighbourhoods.csv\")\n",
    "reviews = pd.read_csv(\"reviews.csv\")\n",
    "reviews_summary = pd.read_csv(\"reviews_summary.csv\")"
   ]
  },
  {
   "cell_type": "markdown",
   "metadata": {},
   "source": [
    "## Información de los data sets "
   ]
  },
  {
   "cell_type": "code",
   "execution_count": null,
   "metadata": {},
   "outputs": [],
   "source": [
    "calendar.info()\n",
    "#calendar.head()"
   ]
  },
  {
   "cell_type": "code",
   "execution_count": null,
   "metadata": {
    "scrolled": true
   },
   "outputs": [],
   "source": [
    "listings_sum.info()"
   ]
  },
  {
   "cell_type": "code",
   "execution_count": null,
   "metadata": {},
   "outputs": [],
   "source": [
    "listings_sum"
   ]
  },
  {
   "cell_type": "code",
   "execution_count": null,
   "metadata": {
    "scrolled": true
   },
   "outputs": [],
   "source": [
    "listings.info()"
   ]
  },
  {
   "cell_type": "markdown",
   "metadata": {},
   "source": [
    "# Para este set de data, es necesario realizar una serie de transformaciones ya que algunas columnas no cumplen con el formato requerido para realizar el análisis."
   ]
  },
  {
   "cell_type": "code",
   "execution_count": 15,
   "metadata": {},
   "outputs": [],
   "source": [
    "num = re.compile(r'\\$')\n",
    "coma = re.compile(r'\\,')\n",
    "listings_sum.price = listings_sum.price.apply(lambda x:float(coma.sub(\"\", num.sub(\"\", x))))"
   ]
  },
  {
   "cell_type": "code",
   "execution_count": null,
   "metadata": {
    "scrolled": true
   },
   "outputs": [],
   "source": [
    "listings_sum.info()"
   ]
  },
  {
   "cell_type": "code",
   "execution_count": null,
   "metadata": {},
   "outputs": [],
   "source": [
    "neighbourhoods.info()\n",
    "#neighbourhoods.head()"
   ]
  },
  {
   "cell_type": "code",
   "execution_count": null,
   "metadata": {},
   "outputs": [],
   "source": [
    "reviews_summary.head()"
   ]
  },
  {
   "cell_type": "markdown",
   "metadata": {},
   "source": [
    "## Busqueda de Insights dentro de la información"
   ]
  },
  {
   "cell_type": "code",
   "execution_count": null,
   "metadata": {},
   "outputs": [],
   "source": [
    "#listings[(listings.price <= 2000) & (listings.price > 500)].price.hist()\n",
    "listings.price.hist()\n",
    "#listings[(listings.price <= 500)].price.hist()\n",
    "#listings[(listings.price <= 100)].price.hist()\n",
    "#listings[(listings.price > 500)].price.hist()\n"
   ]
  },
  {
   "cell_type": "markdown",
   "metadata": {},
   "source": [
    "# Estos histogramas nos muestran que la mayor cantidad de lugares dentro de la información tienen un valor inferior a 500 dólares, dentro de eso valores menores a 500, la mayor cantidad son inferiores a 100 dólares, y dentro de esos 100, la mayor cantidad es de 30 a 40 dólares."
   ]
  },
  {
   "cell_type": "code",
   "execution_count": null,
   "metadata": {},
   "outputs": [],
   "source": [
    "listings[listings.price <= 100].plot(kind=\"scatter\", x=\"longitude\", y=\"latitude\", alpha=0.4, c=\"price\", figsize=(10,7), cmap=\"jet\", colorbar=True,\n",
    ")"
   ]
  },
  {
   "cell_type": "markdown",
   "metadata": {},
   "source": [
    "# Con este gráfico podemos darnos cuenta que la latitud y la longitud no tienen relación con el precio de los lugares"
   ]
  },
  {
   "cell_type": "code",
   "execution_count": null,
   "metadata": {},
   "outputs": [],
   "source": [
    "listings_sum[(listings_sum.price > 500)].describe()"
   ]
  },
  {
   "cell_type": "code",
   "execution_count": null,
   "metadata": {
    "scrolled": true
   },
   "outputs": [],
   "source": [
    "listings_sum[(listings_sum.price > 500)].select_dtypes(exclude=['object']).corr()[\"price\"]\n",
    "#np.corrcoef(listings_sum.dropna(subset=['beds']).price, listings_sum.dropna(subset=['beds']).beds)"
   ]
  },
  {
   "cell_type": "markdown",
   "metadata": {},
   "source": [
    "# Se puede observar claramente que las variables numéricas que más influencia tienen en general son square_feet, accommodates, bathrooms, bedrooms y beds. Para los valores de los lugares mayores a 500 dólares, tienden a tener importancia maximun y minimum night, al igual que latitud y longitud."
   ]
  },
  {
   "cell_type": "code",
   "execution_count": null,
   "metadata": {},
   "outputs": [],
   "source": [
    "listings_sum.select_dtypes(exclude=['int64', 'float64']).iloc[:,40:50]"
   ]
  },
  {
   "cell_type": "markdown",
   "metadata": {},
   "source": [
    "# Vamos a recuperar City, state, property_type, room_type, bed_type"
   ]
  },
  {
   "cell_type": "code",
   "execution_count": null,
   "metadata": {},
   "outputs": [],
   "source": [
    "#pd.get_dummies(listings_sum[[\"city\", \"state\", \"property_type\", \"room_type\", \"bed_type\"]])\n",
    "\n",
    "s = pd.get_dummies(listings_sum[[\"price\", \"state\", \"property_type\", \"room_type\", \"bed_type\"]]).corr()[\"price\"]\n",
    "s[s > 0.1]"
   ]
  },
  {
   "cell_type": "markdown",
   "metadata": {},
   "source": [
    "# Observamos entonces que unicamente tanto room_type, como Property_type, son variables categóricas que influyen significativamente en el precio"
   ]
  },
  {
   "cell_type": "code",
   "execution_count": null,
   "metadata": {},
   "outputs": [],
   "source": [
    "listings_sum[(listings_sum.price > 2000)].amenities.value_counts().head(20)"
   ]
  },
  {
   "cell_type": "markdown",
   "metadata": {},
   "source": [
    "# Podemos observar que las comodidaes se caracterizan principalemente por estas categorías: TV, Internet, Wi-fi, Kitchen, Essentials, Buzzer/wireless intercom, Heating, Washer, Family/kid friendly, Hangers, Laptop friendly workspace, Hair dryer, Iron, Shampoo, Smoking allowed"
   ]
  },
  {
   "cell_type": "code",
   "execution_count": 16,
   "metadata": {},
   "outputs": [],
   "source": [
    "#Creamos una función para detectar caracteres\n",
    "def charac(x, palabra):\n",
    "    \n",
    "    y = 1 if palabra in x else 0\n",
    "    \n",
    "    return y    "
   ]
  },
  {
   "cell_type": "code",
   "execution_count": 17,
   "metadata": {},
   "outputs": [],
   "source": [
    "listings_sum[\"Water\"] = listings_sum.amenities.apply(lambda x:charac(x.lower(), \"water\"))\n",
    "listings_sum[\"SmokeD\"] = listings_sum.amenities.apply(lambda x:charac(x.lower(), \"smoke\"))\n",
    "listings_sum[\"BedLinens\"] = listings_sum.amenities.apply(lambda x:charac(x.lower(), \"linens\"))\n",
    "listings_sum[\"Elevator\"] = listings_sum.amenities.apply(lambda x:charac(x.lower(), \"elevator\"))\n",
    "listings_sum[\"Air\"] = listings_sum.amenities.apply(lambda x:charac(x.lower(), \"air\"))\n",
    "listings_sum[\"Gym\"] = listings_sum.amenities.apply(lambda x:charac(x.lower(), \"gym\"))\n",
    "listings_sum[\"Breakfast\"] = listings_sum.amenities.apply(lambda x:charac(x.lower(), \"breakfast\"))\n",
    "listings_sum[\"TV\"] = listings_sum.amenities.apply(lambda x:charac(x.lower(), \"tv\"))\n",
    "listings_sum[\"Wifi\"] = listings_sum.amenities.apply(lambda x:charac(x.lower(), \"wifi\"))\n",
    "listings_sum[\"Kitchen\"] = listings_sum.amenities.apply(lambda x:charac(x.lower(), \"kitchen\"))\n",
    "listings_sum[\"Internet\"] = listings_sum.amenities.apply(lambda x:charac(x.lower(), \"internet\"))\n",
    "listings_sum[\"Essentials\"] = listings_sum.amenities.apply(lambda x:charac(x.lower(), \"essentials\"))\n",
    "listings_sum[\"Buzzer\"] = listings_sum.amenities.apply(lambda x:charac(x.lower(), \"buzzer\"))\n",
    "listings_sum[\"Heating\"] = listings_sum.amenities.apply(lambda x:charac(x.lower(), \"heating\"))\n",
    "listings_sum[\"Washer\"] = listings_sum.amenities.apply(lambda x:charac(x.lower(), \"washer\"))\n",
    "listings_sum[\"Family\"] = listings_sum.amenities.apply(lambda x:charac(x.lower(), \"familyHangers\"))\n",
    "listings_sum[\"Hangers\"] = listings_sum.amenities.apply(lambda x:charac(x.lower(), \"hangers\"))\n",
    "listings_sum[\"Laptop\"] = listings_sum.amenities.apply(lambda x:charac(x.lower(), \"laptop\"))\n",
    "listings_sum[\"dryer\"] = listings_sum.amenities.apply(lambda x:charac(x.lower(), \"dryer\"))\n",
    "listings_sum[\"Iron\"] = listings_sum.amenities.apply(lambda x:charac(x.lower(), \"iron\"))\n",
    "listings_sum[\"Shampoo\"] = listings_sum.amenities.apply(lambda x:charac(x.lower(), \"shampoo\"))\n",
    "listings_sum[\"Smoking\"] = listings_sum.amenities.apply(lambda x:charac(x.lower(), \"smoking\"))"
   ]
  },
  {
   "cell_type": "code",
   "execution_count": 18,
   "metadata": {},
   "outputs": [
    {
     "data": {
      "text/plain": [
       "price         1.000000\n",
       "TV            0.258278\n",
       "SmokeD        0.111596\n",
       "BedLinens     0.089386\n",
       "Internet      0.041110\n",
       "Wifi          0.016970\n",
       "Kitchen       0.056624\n",
       "Essentials    0.038223\n",
       "Air           0.134492\n",
       "Gym           0.022545\n",
       "Water         0.135072\n",
       "Breakfast    -0.003405\n",
       "Elevator      0.103186\n",
       "Buzzer        0.078803\n",
       "Heating       0.061922\n",
       "Washer       -0.002868\n",
       "Family             NaN\n",
       "Hangers       0.125517\n",
       "Laptop        0.067190\n",
       "dryer         0.133702\n",
       "Iron          0.168602\n",
       "Shampoo       0.128805\n",
       "Smoking      -0.160311\n",
       "Name: price, dtype: float64"
      ]
     },
     "execution_count": 18,
     "metadata": {},
     "output_type": "execute_result"
    }
   ],
   "source": [
    "listings_sum[[\"price\", \"TV\", \"SmokeD\", \"BedLinens\", \"Internet\", \"Wifi\", \"Kitchen\", \"Essentials\", \"Air\", \"Gym\", \"Water\", \"Breakfast\", \"Elevator\", \"Buzzer\", \"Heating\", \"Washer\", \"Family\", \"Hangers\", \"Laptop\", \"dryer\", \"Iron\", \"Shampoo\", \"Smoking\"]][listings_sum.price <= 100].corr()[\"price\"]"
   ]
  },
  {
   "cell_type": "markdown",
   "metadata": {},
   "source": [
    "# Observamos que claramente la mayoría de las categoría no tienen una influencia importante en general, sin embargo para aquellos lugares de mas de 500 dólares tienen importancia, SmokeD, BedLinens, Kitchen, Gym, Heating, Washer y Laptop, por ende vamos a usarlas, porque pueden ayudarnos a detectar los outliers de una manera mas precisa."
   ]
  },
  {
   "cell_type": "code",
   "execution_count": 19,
   "metadata": {},
   "outputs": [
    {
     "data": {
      "text/html": [
       "<div>\n",
       "<style scoped>\n",
       "    .dataframe tbody tr th:only-of-type {\n",
       "        vertical-align: middle;\n",
       "    }\n",
       "\n",
       "    .dataframe tbody tr th {\n",
       "        vertical-align: top;\n",
       "    }\n",
       "\n",
       "    .dataframe thead th {\n",
       "        text-align: right;\n",
       "    }\n",
       "</style>\n",
       "<table border=\"1\" class=\"dataframe\">\n",
       "  <thead>\n",
       "    <tr style=\"text-align: right;\">\n",
       "      <th></th>\n",
       "      <th>price</th>\n",
       "      <th>room_type_Entire home/apt</th>\n",
       "      <th>room_type_Private room</th>\n",
       "      <th>room_type_Shared room</th>\n",
       "      <th>property_type_Aparthotel</th>\n",
       "      <th>property_type_Apartment</th>\n",
       "      <th>property_type_Barn</th>\n",
       "      <th>property_type_Bed and breakfast</th>\n",
       "      <th>property_type_Boat</th>\n",
       "      <th>property_type_Boutique hotel</th>\n",
       "      <th>...</th>\n",
       "      <th>property_type_Loft</th>\n",
       "      <th>property_type_Other</th>\n",
       "      <th>property_type_Pension (South Korea)</th>\n",
       "      <th>property_type_Resort</th>\n",
       "      <th>property_type_Serviced apartment</th>\n",
       "      <th>property_type_Tiny house</th>\n",
       "      <th>property_type_Tipi</th>\n",
       "      <th>property_type_Townhouse</th>\n",
       "      <th>property_type_Train</th>\n",
       "      <th>property_type_Villa</th>\n",
       "    </tr>\n",
       "  </thead>\n",
       "  <tbody>\n",
       "    <tr>\n",
       "      <th>0</th>\n",
       "      <td>60.0</td>\n",
       "      <td>1</td>\n",
       "      <td>0</td>\n",
       "      <td>0</td>\n",
       "      <td>0</td>\n",
       "      <td>0</td>\n",
       "      <td>0</td>\n",
       "      <td>0</td>\n",
       "      <td>0</td>\n",
       "      <td>0</td>\n",
       "      <td>...</td>\n",
       "      <td>0</td>\n",
       "      <td>0</td>\n",
       "      <td>0</td>\n",
       "      <td>0</td>\n",
       "      <td>0</td>\n",
       "      <td>0</td>\n",
       "      <td>0</td>\n",
       "      <td>0</td>\n",
       "      <td>0</td>\n",
       "      <td>0</td>\n",
       "    </tr>\n",
       "    <tr>\n",
       "      <th>1</th>\n",
       "      <td>17.0</td>\n",
       "      <td>0</td>\n",
       "      <td>1</td>\n",
       "      <td>0</td>\n",
       "      <td>0</td>\n",
       "      <td>1</td>\n",
       "      <td>0</td>\n",
       "      <td>0</td>\n",
       "      <td>0</td>\n",
       "      <td>0</td>\n",
       "      <td>...</td>\n",
       "      <td>0</td>\n",
       "      <td>0</td>\n",
       "      <td>0</td>\n",
       "      <td>0</td>\n",
       "      <td>0</td>\n",
       "      <td>0</td>\n",
       "      <td>0</td>\n",
       "      <td>0</td>\n",
       "      <td>0</td>\n",
       "      <td>0</td>\n",
       "    </tr>\n",
       "    <tr>\n",
       "      <th>2</th>\n",
       "      <td>90.0</td>\n",
       "      <td>1</td>\n",
       "      <td>0</td>\n",
       "      <td>0</td>\n",
       "      <td>0</td>\n",
       "      <td>1</td>\n",
       "      <td>0</td>\n",
       "      <td>0</td>\n",
       "      <td>0</td>\n",
       "      <td>0</td>\n",
       "      <td>...</td>\n",
       "      <td>0</td>\n",
       "      <td>0</td>\n",
       "      <td>0</td>\n",
       "      <td>0</td>\n",
       "      <td>0</td>\n",
       "      <td>0</td>\n",
       "      <td>0</td>\n",
       "      <td>0</td>\n",
       "      <td>0</td>\n",
       "      <td>0</td>\n",
       "    </tr>\n",
       "    <tr>\n",
       "      <th>3</th>\n",
       "      <td>26.0</td>\n",
       "      <td>0</td>\n",
       "      <td>1</td>\n",
       "      <td>0</td>\n",
       "      <td>0</td>\n",
       "      <td>1</td>\n",
       "      <td>0</td>\n",
       "      <td>0</td>\n",
       "      <td>0</td>\n",
       "      <td>0</td>\n",
       "      <td>...</td>\n",
       "      <td>0</td>\n",
       "      <td>0</td>\n",
       "      <td>0</td>\n",
       "      <td>0</td>\n",
       "      <td>0</td>\n",
       "      <td>0</td>\n",
       "      <td>0</td>\n",
       "      <td>0</td>\n",
       "      <td>0</td>\n",
       "      <td>0</td>\n",
       "    </tr>\n",
       "    <tr>\n",
       "      <th>4</th>\n",
       "      <td>42.0</td>\n",
       "      <td>0</td>\n",
       "      <td>1</td>\n",
       "      <td>0</td>\n",
       "      <td>0</td>\n",
       "      <td>1</td>\n",
       "      <td>0</td>\n",
       "      <td>0</td>\n",
       "      <td>0</td>\n",
       "      <td>0</td>\n",
       "      <td>...</td>\n",
       "      <td>0</td>\n",
       "      <td>0</td>\n",
       "      <td>0</td>\n",
       "      <td>0</td>\n",
       "      <td>0</td>\n",
       "      <td>0</td>\n",
       "      <td>0</td>\n",
       "      <td>0</td>\n",
       "      <td>0</td>\n",
       "      <td>0</td>\n",
       "    </tr>\n",
       "    <tr>\n",
       "      <th>...</th>\n",
       "      <td>...</td>\n",
       "      <td>...</td>\n",
       "      <td>...</td>\n",
       "      <td>...</td>\n",
       "      <td>...</td>\n",
       "      <td>...</td>\n",
       "      <td>...</td>\n",
       "      <td>...</td>\n",
       "      <td>...</td>\n",
       "      <td>...</td>\n",
       "      <td>...</td>\n",
       "      <td>...</td>\n",
       "      <td>...</td>\n",
       "      <td>...</td>\n",
       "      <td>...</td>\n",
       "      <td>...</td>\n",
       "      <td>...</td>\n",
       "      <td>...</td>\n",
       "      <td>...</td>\n",
       "      <td>...</td>\n",
       "      <td>...</td>\n",
       "    </tr>\n",
       "    <tr>\n",
       "      <th>22547</th>\n",
       "      <td>60.0</td>\n",
       "      <td>1</td>\n",
       "      <td>0</td>\n",
       "      <td>0</td>\n",
       "      <td>0</td>\n",
       "      <td>1</td>\n",
       "      <td>0</td>\n",
       "      <td>0</td>\n",
       "      <td>0</td>\n",
       "      <td>0</td>\n",
       "      <td>...</td>\n",
       "      <td>0</td>\n",
       "      <td>0</td>\n",
       "      <td>0</td>\n",
       "      <td>0</td>\n",
       "      <td>0</td>\n",
       "      <td>0</td>\n",
       "      <td>0</td>\n",
       "      <td>0</td>\n",
       "      <td>0</td>\n",
       "      <td>0</td>\n",
       "    </tr>\n",
       "    <tr>\n",
       "      <th>22548</th>\n",
       "      <td>20.0</td>\n",
       "      <td>0</td>\n",
       "      <td>0</td>\n",
       "      <td>1</td>\n",
       "      <td>0</td>\n",
       "      <td>1</td>\n",
       "      <td>0</td>\n",
       "      <td>0</td>\n",
       "      <td>0</td>\n",
       "      <td>0</td>\n",
       "      <td>...</td>\n",
       "      <td>0</td>\n",
       "      <td>0</td>\n",
       "      <td>0</td>\n",
       "      <td>0</td>\n",
       "      <td>0</td>\n",
       "      <td>0</td>\n",
       "      <td>0</td>\n",
       "      <td>0</td>\n",
       "      <td>0</td>\n",
       "      <td>0</td>\n",
       "    </tr>\n",
       "    <tr>\n",
       "      <th>22549</th>\n",
       "      <td>85.0</td>\n",
       "      <td>1</td>\n",
       "      <td>0</td>\n",
       "      <td>0</td>\n",
       "      <td>0</td>\n",
       "      <td>0</td>\n",
       "      <td>0</td>\n",
       "      <td>0</td>\n",
       "      <td>0</td>\n",
       "      <td>0</td>\n",
       "      <td>...</td>\n",
       "      <td>1</td>\n",
       "      <td>0</td>\n",
       "      <td>0</td>\n",
       "      <td>0</td>\n",
       "      <td>0</td>\n",
       "      <td>0</td>\n",
       "      <td>0</td>\n",
       "      <td>0</td>\n",
       "      <td>0</td>\n",
       "      <td>0</td>\n",
       "    </tr>\n",
       "    <tr>\n",
       "      <th>22550</th>\n",
       "      <td>99.0</td>\n",
       "      <td>0</td>\n",
       "      <td>1</td>\n",
       "      <td>0</td>\n",
       "      <td>0</td>\n",
       "      <td>0</td>\n",
       "      <td>0</td>\n",
       "      <td>0</td>\n",
       "      <td>0</td>\n",
       "      <td>1</td>\n",
       "      <td>...</td>\n",
       "      <td>0</td>\n",
       "      <td>0</td>\n",
       "      <td>0</td>\n",
       "      <td>0</td>\n",
       "      <td>0</td>\n",
       "      <td>0</td>\n",
       "      <td>0</td>\n",
       "      <td>0</td>\n",
       "      <td>0</td>\n",
       "      <td>0</td>\n",
       "    </tr>\n",
       "    <tr>\n",
       "      <th>22551</th>\n",
       "      <td>45.0</td>\n",
       "      <td>0</td>\n",
       "      <td>1</td>\n",
       "      <td>0</td>\n",
       "      <td>0</td>\n",
       "      <td>1</td>\n",
       "      <td>0</td>\n",
       "      <td>0</td>\n",
       "      <td>0</td>\n",
       "      <td>0</td>\n",
       "      <td>...</td>\n",
       "      <td>0</td>\n",
       "      <td>0</td>\n",
       "      <td>0</td>\n",
       "      <td>0</td>\n",
       "      <td>0</td>\n",
       "      <td>0</td>\n",
       "      <td>0</td>\n",
       "      <td>0</td>\n",
       "      <td>0</td>\n",
       "      <td>0</td>\n",
       "    </tr>\n",
       "  </tbody>\n",
       "</table>\n",
       "<p>22552 rows × 37 columns</p>\n",
       "</div>"
      ],
      "text/plain": [
       "       price  room_type_Entire home/apt  room_type_Private room  \\\n",
       "0       60.0                          1                       0   \n",
       "1       17.0                          0                       1   \n",
       "2       90.0                          1                       0   \n",
       "3       26.0                          0                       1   \n",
       "4       42.0                          0                       1   \n",
       "...      ...                        ...                     ...   \n",
       "22547   60.0                          1                       0   \n",
       "22548   20.0                          0                       0   \n",
       "22549   85.0                          1                       0   \n",
       "22550   99.0                          0                       1   \n",
       "22551   45.0                          0                       1   \n",
       "\n",
       "       room_type_Shared room  property_type_Aparthotel  \\\n",
       "0                          0                         0   \n",
       "1                          0                         0   \n",
       "2                          0                         0   \n",
       "3                          0                         0   \n",
       "4                          0                         0   \n",
       "...                      ...                       ...   \n",
       "22547                      0                         0   \n",
       "22548                      1                         0   \n",
       "22549                      0                         0   \n",
       "22550                      0                         0   \n",
       "22551                      0                         0   \n",
       "\n",
       "       property_type_Apartment  property_type_Barn  \\\n",
       "0                            0                   0   \n",
       "1                            1                   0   \n",
       "2                            1                   0   \n",
       "3                            1                   0   \n",
       "4                            1                   0   \n",
       "...                        ...                 ...   \n",
       "22547                        1                   0   \n",
       "22548                        1                   0   \n",
       "22549                        0                   0   \n",
       "22550                        0                   0   \n",
       "22551                        1                   0   \n",
       "\n",
       "       property_type_Bed and breakfast  property_type_Boat  \\\n",
       "0                                    0                   0   \n",
       "1                                    0                   0   \n",
       "2                                    0                   0   \n",
       "3                                    0                   0   \n",
       "4                                    0                   0   \n",
       "...                                ...                 ...   \n",
       "22547                                0                   0   \n",
       "22548                                0                   0   \n",
       "22549                                0                   0   \n",
       "22550                                0                   0   \n",
       "22551                                0                   0   \n",
       "\n",
       "       property_type_Boutique hotel  ...  property_type_Loft  \\\n",
       "0                                 0  ...                   0   \n",
       "1                                 0  ...                   0   \n",
       "2                                 0  ...                   0   \n",
       "3                                 0  ...                   0   \n",
       "4                                 0  ...                   0   \n",
       "...                             ...  ...                 ...   \n",
       "22547                             0  ...                   0   \n",
       "22548                             0  ...                   0   \n",
       "22549                             0  ...                   1   \n",
       "22550                             1  ...                   0   \n",
       "22551                             0  ...                   0   \n",
       "\n",
       "       property_type_Other  property_type_Pension (South Korea)  \\\n",
       "0                        0                                    0   \n",
       "1                        0                                    0   \n",
       "2                        0                                    0   \n",
       "3                        0                                    0   \n",
       "4                        0                                    0   \n",
       "...                    ...                                  ...   \n",
       "22547                    0                                    0   \n",
       "22548                    0                                    0   \n",
       "22549                    0                                    0   \n",
       "22550                    0                                    0   \n",
       "22551                    0                                    0   \n",
       "\n",
       "       property_type_Resort  property_type_Serviced apartment  \\\n",
       "0                         0                                 0   \n",
       "1                         0                                 0   \n",
       "2                         0                                 0   \n",
       "3                         0                                 0   \n",
       "4                         0                                 0   \n",
       "...                     ...                               ...   \n",
       "22547                     0                                 0   \n",
       "22548                     0                                 0   \n",
       "22549                     0                                 0   \n",
       "22550                     0                                 0   \n",
       "22551                     0                                 0   \n",
       "\n",
       "       property_type_Tiny house  property_type_Tipi  property_type_Townhouse  \\\n",
       "0                             0                   0                        0   \n",
       "1                             0                   0                        0   \n",
       "2                             0                   0                        0   \n",
       "3                             0                   0                        0   \n",
       "4                             0                   0                        0   \n",
       "...                         ...                 ...                      ...   \n",
       "22547                         0                   0                        0   \n",
       "22548                         0                   0                        0   \n",
       "22549                         0                   0                        0   \n",
       "22550                         0                   0                        0   \n",
       "22551                         0                   0                        0   \n",
       "\n",
       "       property_type_Train  property_type_Villa  \n",
       "0                        0                    0  \n",
       "1                        0                    0  \n",
       "2                        0                    0  \n",
       "3                        0                    0  \n",
       "4                        0                    0  \n",
       "...                    ...                  ...  \n",
       "22547                    0                    0  \n",
       "22548                    0                    0  \n",
       "22549                    0                    0  \n",
       "22550                    0                    0  \n",
       "22551                    0                    0  \n",
       "\n",
       "[22552 rows x 37 columns]"
      ]
     },
     "execution_count": 19,
     "metadata": {},
     "output_type": "execute_result"
    }
   ],
   "source": [
    "#Comenzamos estructurando la base con las categóricas que son room_type y property_type\n",
    "\n",
    "BaseTot = pd.get_dummies(listings_sum[[\"price\", \"room_type\", \"property_type\"]])\n",
    "BaseTot"
   ]
  },
  {
   "cell_type": "code",
   "execution_count": 20,
   "metadata": {},
   "outputs": [],
   "source": [
    "#Escogemos las otras variables numéricas y creadas por nosotros\n",
    "\n",
    "Comp = listings_sum[[\"square_feet\", \"accommodates\", \"bathrooms\", \"bedrooms\", \"beds\", \"minimum_nights\", \"maximum_nights\", \"latitude\", \"longitude\", \"SmokeD\", \"BedLinens\", \"Kitchen\", \"Gym\", \"Heating\", \"Washer\", \"Laptop\"]]"
   ]
  },
  {
   "cell_type": "code",
   "execution_count": 21,
   "metadata": {
    "scrolled": true
   },
   "outputs": [
    {
     "data": {
      "text/html": [
       "<div>\n",
       "<style scoped>\n",
       "    .dataframe tbody tr th:only-of-type {\n",
       "        vertical-align: middle;\n",
       "    }\n",
       "\n",
       "    .dataframe tbody tr th {\n",
       "        vertical-align: top;\n",
       "    }\n",
       "\n",
       "    .dataframe thead th {\n",
       "        text-align: right;\n",
       "    }\n",
       "</style>\n",
       "<table border=\"1\" class=\"dataframe\">\n",
       "  <thead>\n",
       "    <tr style=\"text-align: right;\">\n",
       "      <th></th>\n",
       "      <th>price</th>\n",
       "      <th>room_type_Entire home/apt</th>\n",
       "      <th>room_type_Private room</th>\n",
       "      <th>room_type_Shared room</th>\n",
       "      <th>property_type_Aparthotel</th>\n",
       "      <th>property_type_Apartment</th>\n",
       "      <th>property_type_Barn</th>\n",
       "      <th>property_type_Bed and breakfast</th>\n",
       "      <th>property_type_Boat</th>\n",
       "      <th>property_type_Boutique hotel</th>\n",
       "      <th>...</th>\n",
       "      <th>maximum_nights</th>\n",
       "      <th>latitude</th>\n",
       "      <th>longitude</th>\n",
       "      <th>SmokeD</th>\n",
       "      <th>BedLinens</th>\n",
       "      <th>Kitchen</th>\n",
       "      <th>Gym</th>\n",
       "      <th>Heating</th>\n",
       "      <th>Washer</th>\n",
       "      <th>Laptop</th>\n",
       "    </tr>\n",
       "  </thead>\n",
       "  <tbody>\n",
       "    <tr>\n",
       "      <th>0</th>\n",
       "      <td>60.0</td>\n",
       "      <td>1</td>\n",
       "      <td>0</td>\n",
       "      <td>0</td>\n",
       "      <td>0</td>\n",
       "      <td>0</td>\n",
       "      <td>0</td>\n",
       "      <td>0</td>\n",
       "      <td>0</td>\n",
       "      <td>0</td>\n",
       "      <td>...</td>\n",
       "      <td>1125</td>\n",
       "      <td>52.534537</td>\n",
       "      <td>13.402557</td>\n",
       "      <td>1</td>\n",
       "      <td>1</td>\n",
       "      <td>1</td>\n",
       "      <td>1</td>\n",
       "      <td>1</td>\n",
       "      <td>1</td>\n",
       "      <td>1</td>\n",
       "    </tr>\n",
       "    <tr>\n",
       "      <th>1</th>\n",
       "      <td>17.0</td>\n",
       "      <td>0</td>\n",
       "      <td>1</td>\n",
       "      <td>0</td>\n",
       "      <td>0</td>\n",
       "      <td>1</td>\n",
       "      <td>0</td>\n",
       "      <td>0</td>\n",
       "      <td>0</td>\n",
       "      <td>0</td>\n",
       "      <td>...</td>\n",
       "      <td>40</td>\n",
       "      <td>52.548513</td>\n",
       "      <td>13.404553</td>\n",
       "      <td>0</td>\n",
       "      <td>0</td>\n",
       "      <td>1</td>\n",
       "      <td>0</td>\n",
       "      <td>1</td>\n",
       "      <td>1</td>\n",
       "      <td>1</td>\n",
       "    </tr>\n",
       "    <tr>\n",
       "      <th>2</th>\n",
       "      <td>90.0</td>\n",
       "      <td>1</td>\n",
       "      <td>0</td>\n",
       "      <td>0</td>\n",
       "      <td>0</td>\n",
       "      <td>1</td>\n",
       "      <td>0</td>\n",
       "      <td>0</td>\n",
       "      <td>0</td>\n",
       "      <td>0</td>\n",
       "      <td>...</td>\n",
       "      <td>1125</td>\n",
       "      <td>52.534996</td>\n",
       "      <td>13.417579</td>\n",
       "      <td>1</td>\n",
       "      <td>0</td>\n",
       "      <td>1</td>\n",
       "      <td>0</td>\n",
       "      <td>1</td>\n",
       "      <td>1</td>\n",
       "      <td>1</td>\n",
       "    </tr>\n",
       "    <tr>\n",
       "      <th>3</th>\n",
       "      <td>26.0</td>\n",
       "      <td>0</td>\n",
       "      <td>1</td>\n",
       "      <td>0</td>\n",
       "      <td>0</td>\n",
       "      <td>1</td>\n",
       "      <td>0</td>\n",
       "      <td>0</td>\n",
       "      <td>0</td>\n",
       "      <td>0</td>\n",
       "      <td>...</td>\n",
       "      <td>360</td>\n",
       "      <td>52.498855</td>\n",
       "      <td>13.349065</td>\n",
       "      <td>1</td>\n",
       "      <td>1</td>\n",
       "      <td>0</td>\n",
       "      <td>0</td>\n",
       "      <td>1</td>\n",
       "      <td>1</td>\n",
       "      <td>1</td>\n",
       "    </tr>\n",
       "    <tr>\n",
       "      <th>4</th>\n",
       "      <td>42.0</td>\n",
       "      <td>0</td>\n",
       "      <td>1</td>\n",
       "      <td>0</td>\n",
       "      <td>0</td>\n",
       "      <td>1</td>\n",
       "      <td>0</td>\n",
       "      <td>0</td>\n",
       "      <td>0</td>\n",
       "      <td>0</td>\n",
       "      <td>...</td>\n",
       "      <td>10</td>\n",
       "      <td>52.543157</td>\n",
       "      <td>13.415091</td>\n",
       "      <td>0</td>\n",
       "      <td>1</td>\n",
       "      <td>0</td>\n",
       "      <td>0</td>\n",
       "      <td>1</td>\n",
       "      <td>0</td>\n",
       "      <td>1</td>\n",
       "    </tr>\n",
       "    <tr>\n",
       "      <th>...</th>\n",
       "      <td>...</td>\n",
       "      <td>...</td>\n",
       "      <td>...</td>\n",
       "      <td>...</td>\n",
       "      <td>...</td>\n",
       "      <td>...</td>\n",
       "      <td>...</td>\n",
       "      <td>...</td>\n",
       "      <td>...</td>\n",
       "      <td>...</td>\n",
       "      <td>...</td>\n",
       "      <td>...</td>\n",
       "      <td>...</td>\n",
       "      <td>...</td>\n",
       "      <td>...</td>\n",
       "      <td>...</td>\n",
       "      <td>...</td>\n",
       "      <td>...</td>\n",
       "      <td>...</td>\n",
       "      <td>...</td>\n",
       "      <td>...</td>\n",
       "    </tr>\n",
       "    <tr>\n",
       "      <th>22547</th>\n",
       "      <td>60.0</td>\n",
       "      <td>1</td>\n",
       "      <td>0</td>\n",
       "      <td>0</td>\n",
       "      <td>0</td>\n",
       "      <td>1</td>\n",
       "      <td>0</td>\n",
       "      <td>0</td>\n",
       "      <td>0</td>\n",
       "      <td>0</td>\n",
       "      <td>...</td>\n",
       "      <td>1125</td>\n",
       "      <td>52.533865</td>\n",
       "      <td>13.400731</td>\n",
       "      <td>0</td>\n",
       "      <td>0</td>\n",
       "      <td>0</td>\n",
       "      <td>0</td>\n",
       "      <td>1</td>\n",
       "      <td>0</td>\n",
       "      <td>1</td>\n",
       "    </tr>\n",
       "    <tr>\n",
       "      <th>22548</th>\n",
       "      <td>20.0</td>\n",
       "      <td>0</td>\n",
       "      <td>0</td>\n",
       "      <td>1</td>\n",
       "      <td>0</td>\n",
       "      <td>1</td>\n",
       "      <td>0</td>\n",
       "      <td>0</td>\n",
       "      <td>0</td>\n",
       "      <td>0</td>\n",
       "      <td>...</td>\n",
       "      <td>14</td>\n",
       "      <td>52.496211</td>\n",
       "      <td>13.341738</td>\n",
       "      <td>1</td>\n",
       "      <td>1</td>\n",
       "      <td>1</td>\n",
       "      <td>0</td>\n",
       "      <td>1</td>\n",
       "      <td>1</td>\n",
       "      <td>1</td>\n",
       "    </tr>\n",
       "    <tr>\n",
       "      <th>22549</th>\n",
       "      <td>85.0</td>\n",
       "      <td>1</td>\n",
       "      <td>0</td>\n",
       "      <td>0</td>\n",
       "      <td>0</td>\n",
       "      <td>0</td>\n",
       "      <td>0</td>\n",
       "      <td>0</td>\n",
       "      <td>0</td>\n",
       "      <td>0</td>\n",
       "      <td>...</td>\n",
       "      <td>30</td>\n",
       "      <td>52.531800</td>\n",
       "      <td>13.411999</td>\n",
       "      <td>0</td>\n",
       "      <td>0</td>\n",
       "      <td>1</td>\n",
       "      <td>0</td>\n",
       "      <td>1</td>\n",
       "      <td>1</td>\n",
       "      <td>0</td>\n",
       "    </tr>\n",
       "    <tr>\n",
       "      <th>22550</th>\n",
       "      <td>99.0</td>\n",
       "      <td>0</td>\n",
       "      <td>1</td>\n",
       "      <td>0</td>\n",
       "      <td>0</td>\n",
       "      <td>0</td>\n",
       "      <td>0</td>\n",
       "      <td>0</td>\n",
       "      <td>0</td>\n",
       "      <td>1</td>\n",
       "      <td>...</td>\n",
       "      <td>10</td>\n",
       "      <td>52.520802</td>\n",
       "      <td>13.378688</td>\n",
       "      <td>1</td>\n",
       "      <td>0</td>\n",
       "      <td>0</td>\n",
       "      <td>0</td>\n",
       "      <td>1</td>\n",
       "      <td>0</td>\n",
       "      <td>1</td>\n",
       "    </tr>\n",
       "    <tr>\n",
       "      <th>22551</th>\n",
       "      <td>45.0</td>\n",
       "      <td>0</td>\n",
       "      <td>1</td>\n",
       "      <td>0</td>\n",
       "      <td>0</td>\n",
       "      <td>1</td>\n",
       "      <td>0</td>\n",
       "      <td>0</td>\n",
       "      <td>0</td>\n",
       "      <td>0</td>\n",
       "      <td>...</td>\n",
       "      <td>14</td>\n",
       "      <td>52.473762</td>\n",
       "      <td>13.424447</td>\n",
       "      <td>0</td>\n",
       "      <td>0</td>\n",
       "      <td>1</td>\n",
       "      <td>0</td>\n",
       "      <td>1</td>\n",
       "      <td>1</td>\n",
       "      <td>1</td>\n",
       "    </tr>\n",
       "  </tbody>\n",
       "</table>\n",
       "<p>22552 rows × 53 columns</p>\n",
       "</div>"
      ],
      "text/plain": [
       "       price  room_type_Entire home/apt  room_type_Private room  \\\n",
       "0       60.0                          1                       0   \n",
       "1       17.0                          0                       1   \n",
       "2       90.0                          1                       0   \n",
       "3       26.0                          0                       1   \n",
       "4       42.0                          0                       1   \n",
       "...      ...                        ...                     ...   \n",
       "22547   60.0                          1                       0   \n",
       "22548   20.0                          0                       0   \n",
       "22549   85.0                          1                       0   \n",
       "22550   99.0                          0                       1   \n",
       "22551   45.0                          0                       1   \n",
       "\n",
       "       room_type_Shared room  property_type_Aparthotel  \\\n",
       "0                          0                         0   \n",
       "1                          0                         0   \n",
       "2                          0                         0   \n",
       "3                          0                         0   \n",
       "4                          0                         0   \n",
       "...                      ...                       ...   \n",
       "22547                      0                         0   \n",
       "22548                      1                         0   \n",
       "22549                      0                         0   \n",
       "22550                      0                         0   \n",
       "22551                      0                         0   \n",
       "\n",
       "       property_type_Apartment  property_type_Barn  \\\n",
       "0                            0                   0   \n",
       "1                            1                   0   \n",
       "2                            1                   0   \n",
       "3                            1                   0   \n",
       "4                            1                   0   \n",
       "...                        ...                 ...   \n",
       "22547                        1                   0   \n",
       "22548                        1                   0   \n",
       "22549                        0                   0   \n",
       "22550                        0                   0   \n",
       "22551                        1                   0   \n",
       "\n",
       "       property_type_Bed and breakfast  property_type_Boat  \\\n",
       "0                                    0                   0   \n",
       "1                                    0                   0   \n",
       "2                                    0                   0   \n",
       "3                                    0                   0   \n",
       "4                                    0                   0   \n",
       "...                                ...                 ...   \n",
       "22547                                0                   0   \n",
       "22548                                0                   0   \n",
       "22549                                0                   0   \n",
       "22550                                0                   0   \n",
       "22551                                0                   0   \n",
       "\n",
       "       property_type_Boutique hotel  ...  maximum_nights   latitude  \\\n",
       "0                                 0  ...            1125  52.534537   \n",
       "1                                 0  ...              40  52.548513   \n",
       "2                                 0  ...            1125  52.534996   \n",
       "3                                 0  ...             360  52.498855   \n",
       "4                                 0  ...              10  52.543157   \n",
       "...                             ...  ...             ...        ...   \n",
       "22547                             0  ...            1125  52.533865   \n",
       "22548                             0  ...              14  52.496211   \n",
       "22549                             0  ...              30  52.531800   \n",
       "22550                             1  ...              10  52.520802   \n",
       "22551                             0  ...              14  52.473762   \n",
       "\n",
       "       longitude  SmokeD  BedLinens  Kitchen  Gym  Heating  Washer  Laptop  \n",
       "0      13.402557       1          1        1    1        1       1       1  \n",
       "1      13.404553       0          0        1    0        1       1       1  \n",
       "2      13.417579       1          0        1    0        1       1       1  \n",
       "3      13.349065       1          1        0    0        1       1       1  \n",
       "4      13.415091       0          1        0    0        1       0       1  \n",
       "...          ...     ...        ...      ...  ...      ...     ...     ...  \n",
       "22547  13.400731       0          0        0    0        1       0       1  \n",
       "22548  13.341738       1          1        1    0        1       1       1  \n",
       "22549  13.411999       0          0        1    0        1       1       0  \n",
       "22550  13.378688       1          0        0    0        1       0       1  \n",
       "22551  13.424447       0          0        1    0        1       1       1  \n",
       "\n",
       "[22552 rows x 53 columns]"
      ]
     },
     "execution_count": 21,
     "metadata": {},
     "output_type": "execute_result"
    }
   ],
   "source": [
    "#Ahora pegamos las dos bases\n",
    "\n",
    "BaseTot = pd.concat([BaseTot, Comp], axis = 1)\n",
    "BaseTot"
   ]
  },
  {
   "cell_type": "code",
   "execution_count": 22,
   "metadata": {},
   "outputs": [
    {
     "name": "stdout",
     "output_type": "stream",
     "text": [
      "<class 'pandas.core.frame.DataFrame'>\n",
      "RangeIndex: 22552 entries, 0 to 22551\n",
      "Data columns (total 53 columns):\n",
      " #   Column                                Non-Null Count  Dtype  \n",
      "---  ------                                --------------  -----  \n",
      " 0   price                                 22552 non-null  float64\n",
      " 1   room_type_Entire home/apt             22552 non-null  uint8  \n",
      " 2   room_type_Private room                22552 non-null  uint8  \n",
      " 3   room_type_Shared room                 22552 non-null  uint8  \n",
      " 4   property_type_Aparthotel              22552 non-null  uint8  \n",
      " 5   property_type_Apartment               22552 non-null  uint8  \n",
      " 6   property_type_Barn                    22552 non-null  uint8  \n",
      " 7   property_type_Bed and breakfast       22552 non-null  uint8  \n",
      " 8   property_type_Boat                    22552 non-null  uint8  \n",
      " 9   property_type_Boutique hotel          22552 non-null  uint8  \n",
      " 10  property_type_Bungalow                22552 non-null  uint8  \n",
      " 11  property_type_Cabin                   22552 non-null  uint8  \n",
      " 12  property_type_Camper/RV               22552 non-null  uint8  \n",
      " 13  property_type_Casa particular (Cuba)  22552 non-null  uint8  \n",
      " 14  property_type_Castle                  22552 non-null  uint8  \n",
      " 15  property_type_Cave                    22552 non-null  uint8  \n",
      " 16  property_type_Chalet                  22552 non-null  uint8  \n",
      " 17  property_type_Condominium             22552 non-null  uint8  \n",
      " 18  property_type_Cottage                 22552 non-null  uint8  \n",
      " 19  property_type_Guest suite             22552 non-null  uint8  \n",
      " 20  property_type_Guesthouse              22552 non-null  uint8  \n",
      " 21  property_type_Hostel                  22552 non-null  uint8  \n",
      " 22  property_type_Hotel                   22552 non-null  uint8  \n",
      " 23  property_type_House                   22552 non-null  uint8  \n",
      " 24  property_type_Houseboat               22552 non-null  uint8  \n",
      " 25  property_type_In-law                  22552 non-null  uint8  \n",
      " 26  property_type_Island                  22552 non-null  uint8  \n",
      " 27  property_type_Loft                    22552 non-null  uint8  \n",
      " 28  property_type_Other                   22552 non-null  uint8  \n",
      " 29  property_type_Pension (South Korea)   22552 non-null  uint8  \n",
      " 30  property_type_Resort                  22552 non-null  uint8  \n",
      " 31  property_type_Serviced apartment      22552 non-null  uint8  \n",
      " 32  property_type_Tiny house              22552 non-null  uint8  \n",
      " 33  property_type_Tipi                    22552 non-null  uint8  \n",
      " 34  property_type_Townhouse               22552 non-null  uint8  \n",
      " 35  property_type_Train                   22552 non-null  uint8  \n",
      " 36  property_type_Villa                   22552 non-null  uint8  \n",
      " 37  square_feet                           446 non-null    float64\n",
      " 38  accommodates                          22552 non-null  int64  \n",
      " 39  bathrooms                             22520 non-null  float64\n",
      " 40  bedrooms                              22534 non-null  float64\n",
      " 41  beds                                  22512 non-null  float64\n",
      " 42  minimum_nights                        22552 non-null  int64  \n",
      " 43  maximum_nights                        22552 non-null  int64  \n",
      " 44  latitude                              22552 non-null  float64\n",
      " 45  longitude                             22552 non-null  float64\n",
      " 46  SmokeD                                22552 non-null  int64  \n",
      " 47  BedLinens                             22552 non-null  int64  \n",
      " 48  Kitchen                               22552 non-null  int64  \n",
      " 49  Gym                                   22552 non-null  int64  \n",
      " 50  Heating                               22552 non-null  int64  \n",
      " 51  Washer                                22552 non-null  int64  \n",
      " 52  Laptop                                22552 non-null  int64  \n",
      "dtypes: float64(7), int64(10), uint8(36)\n",
      "memory usage: 3.7 MB\n"
     ]
    }
   ],
   "source": [
    "BaseTot.info()"
   ]
  },
  {
   "cell_type": "code",
   "execution_count": 23,
   "metadata": {},
   "outputs": [],
   "source": [
    "#Rellenamos los NA, y eliminamos las columnas correspondientes.\n",
    "\n",
    "medianb = BaseTot[\"bathrooms\"].median() # option 3\n",
    "BaseTot[\"bathrooms\"].fillna(medianb, inplace=True)\n",
    "\n",
    "medianbe = BaseTot[\"bedrooms\"].median() # option 3\n",
    "BaseTot[\"bedrooms\"].fillna(medianbe, inplace=True)\n",
    "\n",
    "medianbed = BaseTot[\"beds\"].median() # option 3\n",
    "BaseTot[\"beds\"].fillna(medianbed, inplace=True)\n",
    "\n",
    "BaseTot = BaseTot.drop(\"square_feet\", axis = 1)"
   ]
  },
  {
   "cell_type": "code",
   "execution_count": 24,
   "metadata": {},
   "outputs": [
    {
     "data": {
      "text/plain": [
       "<matplotlib.axes._subplots.AxesSubplot at 0x1930108c1f0>"
      ]
     },
     "execution_count": 24,
     "metadata": {},
     "output_type": "execute_result"
    },
    {
     "data": {
      "image/png": "[encoded data removed]",
      "text/plain": [
       "<Figure size 432x288 with 1 Axes>"
      ]
     },
     "metadata": {
      "needs_background": "light"
     },
     "output_type": "display_data"
    }
   ],
   "source": [
    "#Vamos a revoisar como se comporta el precio por medio de una estratificación.\n",
    "\n",
    "BaseTot[\"price_cat\"] = pd.cut(BaseTot[\"price\"],\n",
    "bins=[-100, 50, 100, 200, 500, np.inf],\n",
    "labels=[1, 2, 3, 4, 5])\n",
    "\n",
    "BaseTot[\"price_cat\"].hist()"
   ]
  },
  {
   "cell_type": "code",
   "execution_count": 25,
   "metadata": {},
   "outputs": [],
   "source": [
    "#Procedemos a separar la información en train y test para poder estructurar el modelo de una manera más adecuada\n",
    "\n",
    "train_set, test_set = train_test_split(BaseTot, test_size=0.2,\n",
    "random_state=42)"
   ]
  },
  {
   "cell_type": "code",
   "execution_count": 26,
   "metadata": {},
   "outputs": [],
   "source": [
    "split = StratifiedShuffleSplit(n_splits=1, test_size=0.2, random_state=42)\n",
    "for train_index, test_index in split.split(BaseTot, BaseTot[\"price_cat\"]):\n",
    "    strat_train_set = BaseTot.loc[train_index]\n",
    "    strat_test_set = BaseTot.loc[test_index]"
   ]
  },
  {
   "cell_type": "code",
   "execution_count": null,
   "metadata": {},
   "outputs": [],
   "source": [
    "strat_test_set[\"price_cat\"].value_counts() / len(strat_test_set)"
   ]
  },
  {
   "cell_type": "code",
   "execution_count": null,
   "metadata": {},
   "outputs": [],
   "source": [
    "test_set[\"price_cat\"].value_counts() / len(test_set)"
   ]
  },
  {
   "cell_type": "code",
   "execution_count": null,
   "metadata": {
    "scrolled": true
   },
   "outputs": [],
   "source": [
    "BaseTot[\"price_cat\"].value_counts() / len(BaseTot)"
   ]
  },
  {
   "cell_type": "markdown",
   "metadata": {},
   "source": [
    "# Se puede observar claramente que la división de la información de forma estratificada es mucho más exacta que la información puramente aleatorizada"
   ]
  },
  {
   "cell_type": "code",
   "execution_count": 27,
   "metadata": {},
   "outputs": [],
   "source": [
    "for set_ in (strat_train_set, strat_test_set):\n",
    "    set_.drop(\"price_cat\", axis=1, inplace=True)"
   ]
  },
  {
   "cell_type": "code",
   "execution_count": 28,
   "metadata": {},
   "outputs": [],
   "source": [
    "X_test = strat_test_set.drop(\"price\", axis = 1).values\n",
    "X_train = strat_train_set.drop(\"price\", axis = 1).values\n",
    "y_test = strat_test_set[\"price\"].values.reshape(-1, 1)\n",
    "y_train = strat_train_set[\"price\"].values.reshape(-1, 1)"
   ]
  },
  {
   "cell_type": "code",
   "execution_count": null,
   "metadata": {},
   "outputs": [],
   "source": [
    "lin_reg = LinearRegression()\n",
    "lin_reg.fit(X_train, y_train)"
   ]
  },
  {
   "cell_type": "code",
   "execution_count": null,
   "metadata": {},
   "outputs": [],
   "source": [
    "Predictions = lin_reg.predict(X_test)"
   ]
  },
  {
   "cell_type": "code",
   "execution_count": null,
   "metadata": {},
   "outputs": [],
   "source": [
    "linreg_mse = mean_squared_error(y_test, Predictions)"
   ]
  },
  {
   "cell_type": "code",
   "execution_count": null,
   "metadata": {},
   "outputs": [],
   "source": [
    "np.sqrt(linreg_mse)"
   ]
  },
  {
   "cell_type": "code",
   "execution_count": null,
   "metadata": {},
   "outputs": [],
   "source": [
    "tree_reg = DecisionTreeRegressor()\n",
    "tree_reg.fit(X_train, y_train)"
   ]
  },
  {
   "cell_type": "code",
   "execution_count": null,
   "metadata": {},
   "outputs": [],
   "source": [
    "Predictions_tree = tree_reg.predict(X_test)"
   ]
  },
  {
   "cell_type": "code",
   "execution_count": null,
   "metadata": {},
   "outputs": [],
   "source": [
    "tree_mse = mean_squared_error(y_test, Predictions_tree)\n",
    "np.sqrt(tree_mse)"
   ]
  },
  {
   "cell_type": "code",
   "execution_count": null,
   "metadata": {},
   "outputs": [],
   "source": [
    "scorestree = cross_val_score(tree_reg, BaseTot.drop(\"price\", axis=1), BaseTot[[\"price\"]],\n",
    "scoring=\"neg_mean_squared_error\", cv=10)\n",
    "tree_rmse_scores = np.sqrt(-scorestree)\n",
    "tree_rmse_scores"
   ]
  },
  {
   "cell_type": "code",
   "execution_count": null,
   "metadata": {},
   "outputs": [],
   "source": [
    "# Una mejor evaluación se puede lograr usando K-FOL Cross validation\n",
    "scoreslreg = cross_val_score(lin_reg, BaseTot.drop(\"price\", axis=1), BaseTot[[\"price\"]],\n",
    "scoring=\"neg_mean_squared_error\", cv=10)\n",
    "linreg_rmse_scores = np.sqrt(-scoreslreg)\n",
    "linreg_rmse_scores"
   ]
  },
  {
   "cell_type": "code",
   "execution_count": null,
   "metadata": {},
   "outputs": [],
   "source": [
    "def display_scores(scores):\n",
    "    print(\"Scores:\", scores)\n",
    "    print(\"Mean:\", scores.mean())\n",
    "    print(\"Standard deviation:\", scores.std())\n",
    "\n",
    "display_scores(linreg_rmse_scores)"
   ]
  },
  {
   "cell_type": "markdown",
   "metadata": {},
   "source": [
    "# Observamos que el error cudrático medio es menor en el arbol de decisión mediante K-Fold Cross Validation, pero mayor en la validadción por train, test."
   ]
  },
  {
   "cell_type": "code",
   "execution_count": null,
   "metadata": {},
   "outputs": [],
   "source": [
    "#Vamos ahora con el Random Forest\n",
    "forest_reg = RandomForestRegressor()"
   ]
  },
  {
   "cell_type": "code",
   "execution_count": null,
   "metadata": {},
   "outputs": [],
   "source": [
    "forest_reg.fit(X_train, y_train)"
   ]
  },
  {
   "cell_type": "code",
   "execution_count": null,
   "metadata": {},
   "outputs": [],
   "source": [
    "Predictions_Rf = forest_reg.predict(X_test)"
   ]
  },
  {
   "cell_type": "code",
   "execution_count": null,
   "metadata": {},
   "outputs": [],
   "source": [
    "Rf_mse = mean_squared_error(y_test, Predictions_Rf)\n",
    "Rf_mse"
   ]
  },
  {
   "cell_type": "code",
   "execution_count": null,
   "metadata": {},
   "outputs": [],
   "source": [
    "# Claramente el Random Forest es el mejor modelo entre los 3 entrenados, ahora escogeremos el de mejores parámetros\n",
    "param_grid = [\n",
    "{'n_estimators': [3, 10, 30], 'max_features': [2, 4, 6, 8]},\n",
    "{'bootstrap': [False], 'n_estimators': [3, 10], 'max_features': [2, 3,4]},\n",
    "]\n",
    "forest_reg = RandomForestRegressor()\n",
    "grid_search = GridSearchCV(forest_reg, param_grid, cv=5,\n",
    "scoring='neg_mean_squared_error',\n",
    "return_train_score=True)\n",
    "grid_search.fit(BaseTot.drop(\"price\", axis=1), BaseTot[[\"price\"]])"
   ]
  },
  {
   "cell_type": "code",
   "execution_count": null,
   "metadata": {},
   "outputs": [],
   "source": [
    "grid_search.best_params_"
   ]
  },
  {
   "cell_type": "code",
   "execution_count": null,
   "metadata": {},
   "outputs": [],
   "source": [
    "grid_search.best_estimator_"
   ]
  },
  {
   "cell_type": "code",
   "execution_count": null,
   "metadata": {},
   "outputs": [],
   "source": [
    "cvres = grid_search.cv_results_\n",
    "for mean_score, params in zip(cvres[\"mean_test_score\"], cvres[\"params\"]):\n",
    "    print(np.sqrt(-mean_score), params)"
   ]
  },
  {
   "cell_type": "code",
   "execution_count": null,
   "metadata": {},
   "outputs": [],
   "source": [
    "Rf_mse = mean_squared_error(y_test, Predictions_Rf)\n",
    "Rf_mse"
   ]
  },
  {
   "cell_type": "code",
   "execution_count": 29,
   "metadata": {},
   "outputs": [],
   "source": [
    "#Probamos el XGBoost\n",
    "\n",
    "booster = xgb.XGBRegressor(colsample_bytree=0.7, gamma=0.2, learning_rate=0.1, \n",
    "                           max_depth=6, n_estimators=200, random_state=4)"
   ]
  },
  {
   "cell_type": "code",
   "execution_count": 30,
   "metadata": {},
   "outputs": [
    {
     "data": {
      "text/plain": [
       "XGBRegressor(base_score=0.5, booster='gbtree', colsample_bylevel=1,\n",
       "             colsample_bynode=1, colsample_bytree=0.7, gamma=0.2, gpu_id=-1,\n",
       "             importance_type='gain', interaction_constraints='',\n",
       "             learning_rate=0.1, max_delta_step=0, max_depth=6,\n",
       "             min_child_weight=1, missing=nan, monotone_constraints='()',\n",
       "             n_estimators=200, n_jobs=0, num_parallel_tree=1, random_state=4,\n",
       "             reg_alpha=0, reg_lambda=1, scale_pos_weight=1, subsample=1,\n",
       "             tree_method='exact', validate_parameters=1, verbosity=None)"
      ]
     },
     "execution_count": 30,
     "metadata": {},
     "output_type": "execute_result"
    }
   ],
   "source": [
    "booster.fit(X_train, y_train)"
   ]
  },
  {
   "cell_type": "code",
   "execution_count": 31,
   "metadata": {},
   "outputs": [],
   "source": [
    "Predictions_xg = booster.predict(X_test)"
   ]
  },
  {
   "cell_type": "code",
   "execution_count": 32,
   "metadata": {},
   "outputs": [],
   "source": [
    "Xg_mse = mean_squared_error(y_test, Predictions_xg)"
   ]
  },
  {
   "cell_type": "code",
   "execution_count": 33,
   "metadata": {},
   "outputs": [
    {
     "data": {
      "text/plain": [
       "114.81338887336418"
      ]
     },
     "execution_count": 33,
     "metadata": {},
     "output_type": "execute_result"
    }
   ],
   "source": [
    "np.sqrt(Xg_mse)"
   ]
  }
 ],
 "metadata": {
  "kernelspec": {
   "display_name": "Python 3",
   "language": "python",
   "name": "python3"
  },
  "language_info": {
   "codemirror_mode": {
    "name": "ipython",
    "version": 3
   },
   "file_extension": ".py",
   "mimetype": "text/x-python",
   "name": "python",
   "nbconvert_exporter": "python",
   "pygments_lexer": "ipython3",
   "version": "3.8.3"
  }
 },
 "nbformat": 4,
 "nbformat_minor": 4
}
